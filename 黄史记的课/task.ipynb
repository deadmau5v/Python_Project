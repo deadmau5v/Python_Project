{
 "cells": [
  {
   "cell_type": "code",
   "execution_count": 38,
   "metadata": {},
   "outputs": [],
   "source": [
    "from pyecharts import charts\n",
    "from pyecharts import options as opts\n",
    "import pandas\n",
    "\n",
    "df = pandas.read_csv('./某公司的销售数据.csv', encoding='gbk')"
   ]
  },
  {
   "cell_type": "code",
   "execution_count": 63,
   "metadata": {},
   "outputs": [
    {
     "data": {
      "text/plain": [
       "'/home/d5v/文档/PythonProjectAll/黄史记的课/运输方式占比.html'"
      ]
     },
     "execution_count": 63,
     "metadata": {},
     "output_type": "execute_result"
    }
   ],
   "source": [
    "total = df[\"运输成本\"].sum()\n",
    "all_dict = {}\n",
    "for i in df[\"运输方式\"].unique():\n",
    "    sum = df[df[\"运输方式\"] == i][\"运输成本\"].sum()\n",
    "    all_dict[i] = round(sum / total * 100, 1)\n",
    "    \n",
    "    title = opts.TitleOpts(\n",
    "            title=\"运输方式占比\",\n",
    "            title_textstyle_opts=opts.TextStyleOpts(\n",
    "                                      color=\"red\",\n",
    "                                  ),\n",
    "                                  pos_left=\"center\",\n",
    "                                  )\n",
    "    \n",
    "    \n",
    "pid = (\n",
    "    charts.Pie()\n",
    "    .add(\"\", list(zip(all_dict.keys(), all_dict.values())), label_opts=opts.LabelOpts(formatter=\"{b}\\n{c}%\"))\n",
    "    .set_global_opts(\n",
    "        title_opts=title,\n",
    "        legend_opts=opts.LegendOpts(is_show=False),\n",
    "        \n",
    "    )\n",
    ")\n",
    "\n",
    "pid.render('./运输方式占比.html')"
   ]
  },
  {
   "cell_type": "code",
   "execution_count": 80,
   "metadata": {},
   "outputs": [
    {
     "name": "stdout",
     "output_type": "stream",
     "text": [
      "{'办公用品': 33.97, '家具产品': 7.39, '技术产品': 58.63}\n"
     ]
    },
    {
     "data": {
      "text/plain": [
       "'/home/d5v/文档/PythonProjectAll/黄史记的课/不同产品利润的占比.html'"
      ]
     },
     "execution_count": 80,
     "metadata": {},
     "output_type": "execute_result"
    }
   ],
   "source": [
    "all_dict = {}\n",
    "total = df[\"利润额\"].sum()\n",
    "for i in df[\"产品类别\"].unique():\n",
    "    sum = df[df[\"产品类别\"] == i][\"利润额\"].sum()\n",
    "    all_dict[i] = round(sum / total * 100, 2)\n",
    "print(all_dict)\n",
    "\n",
    "pid = (\n",
    "    charts.Pie()\n",
    "    .add(\"\", list(zip(all_dict.keys(), all_dict.values())), label_opts=opts.LabelOpts(formatter=\"{c}\\n{b}%\"), radius=[\"40%\", \"75%\"])\n",
    "    .set_global_opts(\n",
    "        title_opts=opts.TitleOpts(title=\"不同产品利润的占比\", title_textstyle_opts=opts.TextStyleOpts(font_size=28), pos_left=\"center\"),\n",
    "        legend_opts=opts.LegendOpts(is_show=False),\n",
    "    )\n",
    ")\n",
    "\n",
    "pid.render('./不同产品利润的占比.html')"
   ]
  },
  {
   "cell_type": "code",
   "execution_count": 110,
   "metadata": {},
   "outputs": [
    {
     "data": {
      "text/plain": [
       "'/home/d5v/文档/PythonProjectAll/黄史记的课/各区域的销售额对比情况.html'"
      ]
     },
     "execution_count": 110,
     "metadata": {},
     "output_type": "execute_result"
    }
   ],
   "source": [
    "# 各区域的销售额对比情况；字体颜色为黑色；位置靠左对齐，字体大小为20。\n",
    "# 标签只显示最大最小值，柱体设置为红色。\n",
    "\n",
    "all_dict = {}\n",
    "for i in df[\"区域\"].unique():\n",
    "    all_dict[i] = df[df[\"区域\"] == i][\"销售额\"].sum()\n",
    "\n",
    "bar = (\n",
    "    charts.Bar()\n",
    "    .add_xaxis(list(all_dict.keys()))\n",
    "    .add_yaxis(\"销售额\", list(all_dict.values()), label_opts=opts.LabelOpts(position=\"top\"), color=\"red\")\n",
    "    .set_global_opts(\n",
    "        legend_opts=opts.LegendOpts(is_show=False),\n",
    "        title_opts=opts.TitleOpts(title=\"各区域的销售额对比情况\", title_textstyle_opts=opts.TextStyleOpts(font_size=20, color=\"black\"), pos_left=\"left\"),\n",
    "    )\n",
    ")\n",
    "\n",
    "\n",
    "bar.render(\"./各区域的销售额对比情况.html\")"
   ]
  },
  {
   "cell_type": "code",
   "execution_count": 138,
   "metadata": {},
   "outputs": [
    {
     "data": {
      "text/plain": [
       "'/home/d5v/文档/PythonProjectAll/黄史记的课/未来一周天气变化.html'"
      ]
     },
     "execution_count": 138,
     "metadata": {},
     "output_type": "execute_result"
    }
   ],
   "source": [
    "raw_data = \"\"\"星期,最高气温,最低气温\n",
    "周一,11,1\n",
    "周二,11,3\n",
    "周三,15,2\n",
    "周四,13,5\n",
    "周五,12,3\n",
    "周六,13,2\n",
    "周日,10,1\"\"\"\n",
    "df = pandas.DataFrame([i.split(\",\") for i in raw_data.split(\"\\n\")[1:]], columns=raw_data.split(\"\\n\")[0].split(\",\"))\n",
    "\n",
    "bar = (\n",
    "    charts.Bar()\n",
    "    .add_xaxis(list(df[\"星期\"]))\n",
    "    .add_yaxis(\"最高气温\", list(df[\"最高气温\"]), color=\"red\")\n",
    "    .add_yaxis(\"最低气温\", list(df[\"最低气温\"]), color=\"blue\")\n",
    "    .set_global_opts(\n",
    "        xaxis_opts=opts.AxisOpts(is_show=True, name=\"星期\"),\n",
    "        title_opts=opts.TitleOpts(subtitle=\"数据来源于网络\", title=\"未来一周天气变化\", \n",
    "                                  title_textstyle_opts=opts.TextStyleOpts(color=\"red\")),\n",
    "        toolbox_opts=opts.ToolboxOpts(is_show=True),\n",
    "        tooltip_opts=opts.TooltipOpts(trigger=\"axis\", axis_pointer_type=\"cross\", background_color=\"#79797\")\n",
    "    )\n",
    ")\n",
    "\n",
    "bar.render(\"./未来一周天气变化.html\")\n"
   ]
  },
  {
   "cell_type": "code",
   "execution_count": null,
   "metadata": {},
   "outputs": [],
   "source": []
  }
 ],
 "metadata": {
  "kernelspec": {
   "display_name": "req",
   "language": "python",
   "name": "python3"
  },
  "language_info": {
   "codemirror_mode": {
    "name": "ipython",
    "version": 3
   },
   "file_extension": ".py",
   "mimetype": "text/x-python",
   "name": "python",
   "nbconvert_exporter": "python",
   "pygments_lexer": "ipython3",
   "version": "3.12.0"
  }
 },
 "nbformat": 4,
 "nbformat_minor": 2
}
