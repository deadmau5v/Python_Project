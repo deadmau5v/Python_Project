{
 "cells": [
  {
   "cell_type": "markdown",
   "source": [
    "# 所有函数的学习"
   ],
   "metadata": {
    "collapsed": false
   },
   "id": "2c3f2457da2293ce"
  },
  {
   "cell_type": "code",
   "execution_count": null,
   "outputs": [],
   "source": [
    "code = compile(\"print('hello world')\", mode=\"single\", filename=\"exec function\")\n",
    "eval(code)"
   ],
   "metadata": {
    "collapsed": false,
    "is_executing": true
   },
   "id": "543bedcc4dfea41e"
  },
  {
   "cell_type": "code",
   "execution_count": 21,
   "outputs": [
    {
     "data": {
      "text/plain": "True"
     },
     "execution_count": 21,
     "metadata": {},
     "output_type": "execute_result"
    }
   ],
   "source": [
    "class TestClass :\n",
    "    def __init__(self):\n",
    "        self.name = ''\n",
    "    \n",
    "    @classmethod\n",
    "    def hello(cls):\n",
    "        print('hello world')\n",
    "# 判断对象是否含有属性\n",
    "hasattr(TestClass, \"hello\")\n",
    "hasattr(TestClass(), \"hello\")"
   ],
   "metadata": {
    "collapsed": false,
    "ExecuteTime": {
     "end_time": "2023-12-21T10:42:08.376640500Z",
     "start_time": "2023-12-21T10:42:08.373147800Z"
    }
   },
   "id": "74610728d85ba121"
  },
  {
   "cell_type": "code",
   "execution_count": 22,
   "outputs": [
    {
     "data": {
      "text/plain": "139881555481"
     },
     "execution_count": 22,
     "metadata": {},
     "output_type": "execute_result"
    }
   ],
   "source": [
    "# 获取哈希值\n",
    "hash(TestClass())"
   ],
   "metadata": {
    "collapsed": false,
    "ExecuteTime": {
     "end_time": "2023-12-21T10:42:08.683161900Z",
     "start_time": "2023-12-21T10:42:08.680849900Z"
    }
   },
   "id": "5a7096fa936a8a70"
  },
  {
   "cell_type": "code",
   "execution_count": 33,
   "outputs": [
    {
     "name": "stdout",
     "output_type": "stream",
     "text": [
      "<memory at 0x00000209196B2B00>\n",
      "2238104347456\n"
     ]
    }
   ],
   "source": [
    "testObject = b\"123\"\n",
    "print(memoryview(testObject))  # 显示一个bytes对象的内存地址\n",
    "print(id(testObject)) # 唯一ID 显示内存地址"
   ],
   "metadata": {
    "collapsed": false,
    "ExecuteTime": {
     "end_time": "2023-12-21T10:54:00.831674900Z",
     "start_time": "2023-12-21T10:54:00.827646800Z"
    }
   },
   "id": "527490e0d09d3cb7"
  },
  {
   "cell_type": "code",
   "execution_count": 34,
   "outputs": [
    {
     "data": {
      "text/plain": "True"
     },
     "execution_count": 34,
     "metadata": {},
     "output_type": "execute_result"
    }
   ],
   "source": [
    "isinstance(TestClass(),TestClass)"
   ],
   "metadata": {
    "collapsed": false,
    "ExecuteTime": {
     "end_time": "2023-12-21T10:54:01.481716Z",
     "start_time": "2023-12-21T10:54:01.478372700Z"
    }
   },
   "id": "1e6615531c888d22"
  }
 ],
 "metadata": {
  "kernelspec": {
   "display_name": "Python 3",
   "language": "python",
   "name": "python3"
  },
  "language_info": {
   "codemirror_mode": {
    "name": "ipython",
    "version": 2
   },
   "file_extension": ".py",
   "mimetype": "text/x-python",
   "name": "python",
   "nbconvert_exporter": "python",
   "pygments_lexer": "ipython2",
   "version": "2.7.6"
  }
 },
 "nbformat": 4,
 "nbformat_minor": 5
}
